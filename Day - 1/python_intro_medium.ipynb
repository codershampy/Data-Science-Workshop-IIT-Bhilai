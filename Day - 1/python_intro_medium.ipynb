{
  "nbformat": 4,
  "nbformat_minor": 0,
  "metadata": {
    "colab": {
      "provenance": []
    },
    "kernelspec": {
      "name": "python3",
      "display_name": "Python 3"
    },
    "language_info": {
      "name": "python"
    }
  },
  "cells": [
    {
      "cell_type": "markdown",
      "source": [
        "***Intermediate Python for Data Science***"
      ],
      "metadata": {
        "id": "ZNsazCPCV-SP"
      }
    },
    {
      "cell_type": "markdown",
      "source": [
        "Exercise 1: Functions\n",
        "\n",
        "1.Write a function cube that takes a number and returns its cube (number * number * number).\n",
        "\n",
        "2.Write a function average that takes a list of numbers and returns their average.\n",
        "\n",
        "3.Call both functions with example inputs and print the results."
      ],
      "metadata": {
        "id": "1qJ_C_ao6J9r"
      }
    },
    {
      "cell_type": "code",
      "source": [
        "def cube(number):\n",
        "    return number * number * number"
      ],
      "metadata": {
        "id": "PDkfXL1G6JfB"
      },
      "execution_count": 2,
      "outputs": []
    },
    {
      "cell_type": "code",
      "source": [
        "def average(numbers):\n",
        "    if len(numbers) == 0:\n",
        "        return 0  # Avoid division by zero\n",
        "    return sum(numbers) / len(numbers)\n"
      ],
      "metadata": {
        "id": "Jpu0qUrw7dMu"
      },
      "execution_count": 3,
      "outputs": []
    },
    {
      "cell_type": "code",
      "source": [
        "print(\"Cube of 5:\", cube(5))"
      ],
      "metadata": {
        "colab": {
          "base_uri": "https://localhost:8080/"
        },
        "id": "l-M5S3Od7rG0",
        "outputId": "4c2288c8-0df7-4953-d703-ba62954fdc5a"
      },
      "execution_count": 4,
      "outputs": [
        {
          "output_type": "stream",
          "name": "stdout",
          "text": [
            "Cube of 5: 125\n"
          ]
        }
      ]
    },
    {
      "cell_type": "code",
      "source": [
        "num_list = [4, 8, 15, 16, 23, 42]\n",
        "average_result = average(num_list)\n",
        "print(f\"The average of {num_list} is {average_result}\")"
      ],
      "metadata": {
        "colab": {
          "base_uri": "https://localhost:8080/"
        },
        "id": "suFZHUc975Ys",
        "outputId": "1e0e266d-550f-4e9f-a57c-f01c05ccbff1"
      },
      "execution_count": 5,
      "outputs": [
        {
          "output_type": "stream",
          "name": "stdout",
          "text": [
            "The average of [4, 8, 15, 16, 23, 42] is 18.0\n"
          ]
        }
      ]
    },
    {
      "cell_type": "markdown",
      "source": [
        "Exercise 2: List Comprehensions\n",
        "\n",
        "1.Create a list of numbers from 1 to 10 using range(1, 11).\n",
        "\n",
        "2.Use a list comprehension to create a list of their cubes.\n",
        "\n",
        "3.Use a list comprehension to create a list of only odd numbers from the original list.\n",
        "\n",
        "4.Print both new lists."
      ],
      "metadata": {
        "id": "xAifTg8A9Q74"
      }
    },
    {
      "cell_type": "code",
      "source": [
        "numbers = list(range(1,11))"
      ],
      "metadata": {
        "id": "4XYkEZ0h9djn"
      },
      "execution_count": 6,
      "outputs": []
    },
    {
      "cell_type": "code",
      "source": [
        "cubes = [x**3 for x in numbers]"
      ],
      "metadata": {
        "id": "tvtpGpLY-2mz"
      },
      "execution_count": 7,
      "outputs": []
    },
    {
      "cell_type": "code",
      "source": [
        "odd_numbers = [x for x in numbers if x%2 != 0]"
      ],
      "metadata": {
        "id": "b6L9CmrvExQt"
      },
      "execution_count": 8,
      "outputs": []
    },
    {
      "cell_type": "code",
      "source": [
        "print(\"Original numbers:\", numbers)\n",
        "print(\"Cubes of number:\", cubes)\n",
        "print(\"Odd Numbers:\", odd_numbers)"
      ],
      "metadata": {
        "colab": {
          "base_uri": "https://localhost:8080/"
        },
        "id": "rhFx9H-PJpzo",
        "outputId": "dab7a0a3-cc59-4862-eb8f-a28892c41c6d"
      },
      "execution_count": 9,
      "outputs": [
        {
          "output_type": "stream",
          "name": "stdout",
          "text": [
            "Original numbers: [1, 2, 3, 4, 5, 6, 7, 8, 9, 10]\n",
            "Cubes of number: [1, 8, 27, 64, 125, 216, 343, 512, 729, 1000]\n",
            "Odd Numbers: [1, 3, 5, 7, 9]\n"
          ]
        }
      ]
    },
    {
      "cell_type": "markdown",
      "source": [
        "Exercise 3: Error Handling\n",
        "\n",
        "1.Write a program that asks the user for two numbers and divides the first by the second.\n",
        "\n",
        "2.Use try-except to handle both ValueError (invalid input) and ZeroDivisionError.\n",
        "\n",
        "3.Print an appropriate message for each error or the result if successful."
      ],
      "metadata": {
        "id": "k6p1c67jZO9Z"
      }
    },
    {
      "cell_type": "code",
      "execution_count": null,
      "metadata": {
        "colab": {
          "base_uri": "https://localhost:8080/"
        },
        "id": "kNFCIEzxY4hU",
        "outputId": "bbfeea3b-7416-4c4b-db56-be291c2b5909"
      },
      "outputs": [
        {
          "output_type": "stream",
          "name": "stdout",
          "text": [
            "Enter the first number: 3\n",
            "Enter the second number: 2\n",
            "Result: 1.5\n"
          ]
        }
      ],
      "source": [
        "try:\n",
        "    num1 = float(input(\"Enter the first number: \"))\n",
        "    num2 = float(input(\"Enter the second number: \"))\n",
        "\n",
        "    result = num1 / num2\n",
        "\n",
        "except ValueError:\n",
        "    print(\"Invalid input! Please enter numeric values only.\")\n",
        "\n",
        "except ZeroDivisionError:\n",
        "    print(\"Cannot divide by zero!\")\n",
        "\n",
        "else:\n",
        "    print(\"Result:\", result)"
      ]
    },
    {
      "cell_type": "markdown",
      "source": [
        "Exercise 4: File Handling\n",
        "\n",
        "1.Create a file called notes.txt and write two lines: your name and a short message.\n",
        "\n",
        "2.Read and print the contents of notes.txt.\n",
        "\n",
        "3.Append a new line with today's date (e.g., \"July 13, 2025\") and print the updated contents.\n"
      ],
      "metadata": {
        "id": "ZFNhffTLcUbu"
      }
    },
    {
      "cell_type": "code",
      "source": [
        "with open('notes.txt', 'w') as file:\n",
        "    file.write(\"Shampy Thakur\\n\")\n",
        "    file.write(\"This is a short message.\\n\")"
      ],
      "metadata": {
        "id": "l2rvdG8CcUKd"
      },
      "execution_count": 11,
      "outputs": []
    },
    {
      "cell_type": "code",
      "source": [
        "print(\"Contents of notes.txt:\")\n",
        "with open('notes.txt','r') as file:\n",
        "    contents = file.read()\n",
        "    print(contents)"
      ],
      "metadata": {
        "colab": {
          "base_uri": "https://localhost:8080/"
        },
        "id": "Mad9DJDjL0Uz",
        "outputId": "d0372d18-9585-472c-d71f-9e691f023875"
      },
      "execution_count": 12,
      "outputs": [
        {
          "output_type": "stream",
          "name": "stdout",
          "text": [
            "Contents of notes.txt:\n",
            "Shampy Thakur\n",
            "This is a short message.\n",
            "\n"
          ]
        }
      ]
    },
    {
      "cell_type": "code",
      "source": [
        "from datetime import datetime\n",
        "\n",
        "today = datetime.now().strftime(\"%B,%d,%Y\")\n",
        "with open('notes.txt', 'a') as file:\n",
        "    file.write(today + '\\n')\n",
        "\n"
      ],
      "metadata": {
        "id": "TFLk9-GQMpfJ"
      },
      "execution_count": 14,
      "outputs": []
    },
    {
      "cell_type": "code",
      "source": [
        "print(\"Updates contents of notes.txt:\")\n",
        "with open('notes.txt','r') as file:\n",
        "    contents = file.read()\n",
        "    print(contents)"
      ],
      "metadata": {
        "colab": {
          "base_uri": "https://localhost:8080/"
        },
        "id": "uOMj0AenPDMH",
        "outputId": "715ba61b-da2c-4a21-dfe1-a0ba61368acd"
      },
      "execution_count": 15,
      "outputs": [
        {
          "output_type": "stream",
          "name": "stdout",
          "text": [
            "Updates contents of notes.txt:\n",
            "Shampy Thakur\n",
            "This is a short message.\n",
            "July,15,2025\n",
            "\n"
          ]
        }
      ]
    },
    {
      "cell_type": "markdown",
      "source": [
        "Exercise 5: Taking Multiple Inputs and Using map()\n",
        "\n",
        "1.Ask the user to enter three integers separated by spaces and use map() to convert them to a list of integers.\n",
        "\n",
        "2.Calculate and print the maximum value in the list using max().\n",
        "\n",
        "3.Use try-except to handle invalid inputs (e.g., non-integer values) and print an error message if needed."
      ],
      "metadata": {
        "id": "Vs9zrwJ8QJ1_"
      }
    },
    {
      "cell_type": "code",
      "source": [
        "try:\n",
        "    # Ask the user to enter three integers separated by spaces\n",
        "    user_input = input(\"Enter three integers separated by spaces: \")\n",
        "\n",
        "    # Use map() to convert the input to a list of integers\n",
        "    numbers = list(map(int, user_input.split()))\n",
        "\n",
        "    # Check if exactly three numbers were entered\n",
        "    if len(numbers) != 3:\n",
        "        print(\"Error: Please enter exactly three integers.\")\n",
        "    else:\n",
        "        # Calculate and print the maximum value\n",
        "        max_value = max(numbers)\n",
        "        print(\"The maximum value is:\", max_value)\n",
        "\n",
        "except ValueError:\n",
        "    print(\"Error: Please enter valid integers only.\")"
      ],
      "metadata": {
        "colab": {
          "base_uri": "https://localhost:8080/"
        },
        "id": "bl7EEG_oVjen",
        "outputId": "13cd72b2-c6a7-445b-93bb-b9e3cdc7ee57"
      },
      "execution_count": 24,
      "outputs": [
        {
          "output_type": "stream",
          "name": "stdout",
          "text": [
            "Enter three integers separated by spaces: 1 2\n",
            "Error: Please enter exactly three integers.\n"
          ]
        }
      ]
    }
  ]
}